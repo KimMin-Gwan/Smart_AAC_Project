{
  "nbformat": 4,
  "nbformat_minor": 0,
  "metadata": {
    "colab": {
      "provenance": []
    },
    "kernelspec": {
      "name": "python3",
      "display_name": "Python 3"
    },
    "language_info": {
      "name": "python"
    }
  },
  "cells": [
    {
      "cell_type": "code",
      "source": [
        "#import\n",
        "import os\n",
        "import pandas as pd"
      ],
      "metadata": {
        "id": "GPj59OsdVFVG"
      },
      "execution_count": null,
      "outputs": []
    },
    {
      "cell_type": "code",
      "source": [
        "#csv 파일 폴더\n",
        "csv_data = os.listdir(\"/content/drive/MyDrive/공부(개인)/인공지능/컴패스/data\")"
      ],
      "metadata": {
        "id": "Th_F2rM_UxZ3"
      },
      "execution_count": null,
      "outputs": []
    },
    {
      "cell_type": "code",
      "execution_count": null,
      "metadata": {
        "id": "Jz0IgPNQzDVS",
        "colab": {
          "base_uri": "https://localhost:8080/"
        },
        "outputId": "55250d28-45a4-4f83-effc-c41039555fee"
      },
      "outputs": [
        {
          "output_type": "stream",
          "name": "stdout",
          "text": [
            "(77507, 2)\n",
            "(1126078, 2)\n",
            "(2084394, 2)\n",
            "(2839550, 2)\n",
            "(3888125, 2)\n",
            "(4142860, 2)\n",
            "(5191431, 2)\n",
            "(6240005, 2)\n",
            "(7288577, 2)\n",
            "(8124766, 2)\n",
            "(8474580, 2)\n",
            "(8947165, 2)\n",
            "(9243462, 2)\n",
            "(9442900, 2)\n",
            "(9618203, 2)\n",
            "(10315358, 2)\n",
            "(10644691, 2)\n"
          ]
        },
        {
          "output_type": "stream",
          "name": "stderr",
          "text": [
            "<ipython-input-38-dd5c0f7eb728>:7: DtypeWarning: Columns (0) have mixed types. Specify dtype option on import or set low_memory=False.\n",
            "  add = pd.read_csv(PATH)\n"
          ]
        },
        {
          "output_type": "stream",
          "name": "stdout",
          "text": [
            "(12590761, 2)\n"
          ]
        }
      ],
      "source": [
        "#csv 파일 합치기\n",
        "data = pd.DataFrame()\n",
        "for i in csv_data:\n",
        "  PATH = \"/content/drive/MyDrive/공부(개인)/인공지능/컴패스/data/\" + i\n",
        "  #print(pd.read_csv(PATH))\n",
        "\n",
        "  add = pd.read_csv(PATH)\n",
        "  data = pd.concat([data, add])\n",
        "  print(data.shape)\n"
      ]
    },
    {
      "cell_type": "code",
      "source": [
        "#nan 제거\n",
        "data.dropna(axis=0, how='any', inplace=True)"
      ],
      "metadata": {
        "id": "9yVSViwZKnxD"
      },
      "execution_count": null,
      "outputs": []
    },
    {
      "cell_type": "code",
      "source": [
        "#데이터 확인용 출력\n",
        "print(data.isnull().sum()) #빈칸 확인\n",
        "\n",
        "print(data[\"USABILITY\"]) #데이터 출력\n",
        "print(data[\"BLD_NM\"]) #데이터 출력"
      ],
      "metadata": {
        "colab": {
          "base_uri": "https://localhost:8080/"
        },
        "id": "uTWQbTVhKqVN",
        "outputId": "a8287e47-222a-410e-9aa6-0cc4903b0213"
      },
      "execution_count": null,
      "outputs": [
        {
          "output_type": "stream",
          "name": "stdout",
          "text": [
            "USABILITY    0\n",
            "BLD_NM       0\n",
            "dtype: int64\n",
            "58          22000\n",
            "148          1000\n",
            "173         17000\n",
            "211          1000\n",
            "400         10000\n",
            "            ...  \n",
            "1310715    100000\n",
            "1310716    100000\n",
            "1310717    100000\n",
            "1310718    100000\n",
            "1310719    100000\n",
            "Name: USABILITY, Length: 1960874, dtype: object\n",
            "58         연기군 생활폐기물 종합처리시설\n",
            "148                      2동\n",
            "173                  문곡리 공장\n",
            "211                      1동\n",
            "400               세종하이텍고등학교\n",
            "                 ...       \n",
            "1310715               공주대학교\n",
            "1310716                  3동\n",
            "1310717                  2동\n",
            "1310718                  7동\n",
            "1310719                 13동\n",
            "Name: BLD_NM, Length: 1960874, dtype: object\n"
          ]
        }
      ]
    },
    {
      "cell_type": "code",
      "source": [
        "print(data.drop_duplicates(subset=['USABILITY'],inplace=False)[0:50] )\n",
        "print(len(data.drop_duplicates(subset=['USABILITY'],inplace=False) ))"
      ],
      "metadata": {
        "id": "0T_p0LQGYhMa"
      },
      "execution_count": null,
      "outputs": []
    },
    {
      "cell_type": "code",
      "source": [
        "data.dtypes"
      ],
      "metadata": {
        "colab": {
          "base_uri": "https://localhost:8080/"
        },
        "id": "kiQWq6ieU29Y",
        "outputId": "29cf254c-f4e6-49c1-c7c4-2aee15192201"
      },
      "execution_count": null,
      "outputs": [
        {
          "output_type": "execute_result",
          "data": {
            "text/plain": [
              "USABILITY    object\n",
              "BLD_NM       object\n",
              "dtype: object"
            ]
          },
          "metadata": {},
          "execution_count": 45
        }
      ]
    },
    {
      "cell_type": "code",
      "source": [
        "data[\"USABILITY\"] = data[\"USABILITY\"].str.replace('[^0-9 ]','')"
      ],
      "metadata": {
        "colab": {
          "base_uri": "https://localhost:8080/"
        },
        "id": "I3IyFRWzcXbF",
        "outputId": "d334be7e-aa67-4b2e-b999-17ad12ec1b87"
      },
      "execution_count": null,
      "outputs": [
        {
          "output_type": "stream",
          "name": "stderr",
          "text": [
            "<ipython-input-40-f63e18ce3153>:1: FutureWarning: The default value of regex will change from True to False in a future version.\n",
            "  data[\"USABILITY\"] = data[\"USABILITY\"].str.replace('[^0-9 ]','')\n"
          ]
        }
      ]
    },
    {
      "cell_type": "code",
      "source": [
        "for i in data[\"USABILITY\"]:\n",
        "  try:\n",
        "   i = pd.to_numeric(i)\n",
        "  except:\n",
        "    print(\"error: \",i)"
      ],
      "metadata": {
        "id": "k_65ROfGGbMO"
      },
      "execution_count": null,
      "outputs": []
    },
    {
      "cell_type": "code",
      "source": [
        "data.to_csv(\"/content/drive/MyDrive/공부(개인)/인공지능/컴패스/data/data_set.csv\", index = False)"
      ],
      "metadata": {
        "id": "LHYgiXVYaym5"
      },
      "execution_count": null,
      "outputs": []
    }
  ]
}